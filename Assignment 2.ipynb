{
 "cells": [
  {
   "cell_type": "markdown",
   "metadata": {},
   "source": [
    "# Task 1-> 1.1\n",
    "\n",
    "## Write a Python Program to implement your own myreduce() function which works exactly like Python's built-in function reduce() "
   ]
  },
  {
   "cell_type": "markdown",
   "metadata": {},
   "source": [
    "Solution :: Below is the custom function 'myReduce'. it accepts two argumnets                                     \n",
    "1- funtion (sum or product) that needs to be apply on data set.                                                            \n",
    "2- Dataset (list)"
   ]
  },
  {
   "cell_type": "code",
   "execution_count": 21,
   "metadata": {},
   "outputs": [
    {
     "name": "stdout",
     "output_type": "stream",
     "text": [
      "Result is: 120\n"
     ]
    }
   ],
   "source": [
    "# ----------------Defined Sum Function-----------------------------------------\n",
    "def sum(n):\n",
    "    sum = 0\n",
    "    for i in n:\n",
    "        sum+=i\n",
    "    return sum\n",
    "#------------End of body Sum function-------------------------------------------\n",
    "\n",
    "# ----------------Defined productFunction--------------------------------------\n",
    "def product(n):\n",
    "    prd=1\n",
    "    for i in n:\n",
    "        prd*=i\n",
    "    return prd\n",
    "#--------End of body Product function-------------------------------------------\n",
    "\n",
    "n = [5,4,3,2,1]  # List declared\n",
    "\n",
    "\n",
    "#-----------------myReduce function body----------------------------\n",
    "def myReduce(method, nlist):\n",
    "    result=method(nlist)\n",
    "    return result\n",
    "\n",
    "#-----------------end of myReduce function body----------------------------\n",
    "\n",
    "result = myReduce(product, n) # calling function \n",
    "print ('Result is:',result)\n",
    "\n"
   ]
  },
  {
   "cell_type": "markdown",
   "metadata": {},
   "source": [
    "# Task 1-> 1.2\n",
    "\n",
    "## Write a Python program to implement your own myfilter() function which works exactly like Python's built-in function filter() "
   ]
  },
  {
   "cell_type": "markdown",
   "metadata": {},
   "source": [
    "Solution:::: myFilter function Will filter the elements greater than average of the list.\n"
   ]
  },
  {
   "cell_type": "code",
   "execution_count": 29,
   "metadata": {},
   "outputs": [
    {
     "name": "stdout",
     "output_type": "stream",
     "text": [
      "Average of list is:- 18.9\n",
      "[21, 25, 28, 35]\n"
     ]
    }
   ],
   "source": [
    "\n",
    "def myFilter(list1):\n",
    "    returnList = []\n",
    "    avg= sum(list1)/len(list1)\n",
    "    for i in list1:\n",
    "        if i> avg:\n",
    "            returnList.append(i)\n",
    "    else:\n",
    "        print('Average of list is:-',avg)\n",
    "    return returnList\n",
    "\n",
    "myList = [8,12,11,14,17,18,21,25,28,35]\n",
    "\n",
    "#print('Average of list is:-',avg)\n",
    "print(myFilter(myList))"
   ]
  },
  {
   "cell_type": "markdown",
   "metadata": {},
   "source": [
    "# Task 1->2\n",
    "Implement List comprehensions to produce the following lists.                                                              \n",
    "Write List comprehensions to produce the following Lists                                                                   \n",
    "['A', 'C', 'A', 'D', 'G', 'I', ’L’, ‘ D’] \n",
    "\n"
   ]
  },
  {
   "cell_type": "code",
   "execution_count": null,
   "metadata": {},
   "outputs": [],
   "source": []
  },
  {
   "cell_type": "markdown",
   "metadata": {},
   "source": [
    "### (a) To Print ::::   ['x', 'y', 'z', 'xx', 'yy', 'zz', 'xx', 'yy', 'zz', 'xxxx', 'yyyy', 'zzzz'] "
   ]
  },
  {
   "cell_type": "code",
   "execution_count": 37,
   "metadata": {},
   "outputs": [
    {
     "name": "stdout",
     "output_type": "stream",
     "text": [
      "['x', 'y', 'z', 'xx', 'yy', 'zz', 'xxx', 'yyy', 'zzz', 'xxxx', 'yyyy', 'zzzz']\n"
     ]
    }
   ],
   "source": [
    "l = ['x','y','z']\n",
    "newList = []\n",
    "for i in range(1,5):\n",
    "    for y in l:\n",
    "        newList.append(i*y)\n",
    "        \n",
    "print(newList)\n"
   ]
  },
  {
   "cell_type": "code",
   "execution_count": 104,
   "metadata": {},
   "outputs": [
    {
     "data": {
      "text/plain": [
       "['x', 'y', 'z', 'xx', 'yy', 'zz', 'xxx', 'yyy', 'zzz', 'xxxx', 'yyyy', 'zzzz']"
      ]
     },
     "execution_count": 104,
     "metadata": {},
     "output_type": "execute_result"
    }
   ],
   "source": [
    "l = [i*j for i in range(1,5) for j in ['x','y','z']]\n",
    "l"
   ]
  },
  {
   "cell_type": "code",
   "execution_count": 102,
   "metadata": {},
   "outputs": [
    {
     "data": {
      "text/plain": [
       "['x', 'xx', 'xxx', 'xxxx', 'y', 'yy', 'yyy', 'yyyy', 'z', 'zz', 'zzz', 'zzzz']"
      ]
     },
     "execution_count": 102,
     "metadata": {},
     "output_type": "execute_result"
    }
   ],
   "source": [
    "list11 = [i * j for j in ['x', 'y', 'z'] for i in range(1, 5)]\n",
    "list11"
   ]
  },
  {
   "cell_type": "markdown",
   "metadata": {},
   "source": [
    "### (b)To Print ::::   ['x', 'xx', 'xxx', 'xxxx', 'y', 'yy', 'yyy', 'yyyy', 'z', 'zz', 'zzz', 'zzzz'] "
   ]
  },
  {
   "cell_type": "code",
   "execution_count": 38,
   "metadata": {},
   "outputs": [
    {
     "name": "stdout",
     "output_type": "stream",
     "text": [
      "['x', 'xx', 'xxx', 'xxxx', 'y', 'yy', 'yyy', 'yyyy', 'z', 'zz', 'zzz', 'zzzz']\n"
     ]
    }
   ],
   "source": [
    "l = ['x','y','z']\n",
    "newList1 = []\n",
    "for i in l:\n",
    "    for y in range(1,5):\n",
    "        newList1.append(i*y)\n",
    "        \n",
    "print(newList1)\n"
   ]
  },
  {
   "cell_type": "markdown",
   "metadata": {},
   "source": [
    "### (c) To Print ::::: [[2], [3], [4], [3], [4], [5], [4], [5], [6]] "
   ]
  },
  {
   "cell_type": "code",
   "execution_count": 105,
   "metadata": {},
   "outputs": [
    {
     "name": "stdout",
     "output_type": "stream",
     "text": [
      "Output is: [[2], [3], [4], [3], [4], [5], [4], [5], [6]]\n"
     ]
    }
   ],
   "source": [
    "l5 = [[2],[3],[4]]\n",
    "for n in range(0,2):\n",
    "    for i in range(1,4):\n",
    "        s = l5[n][0]+i\n",
    "        l5.append([s])\n",
    "\n",
    "print('Output is:', l5 )"
   ]
  },
  {
   "cell_type": "code",
   "execution_count": null,
   "metadata": {},
   "outputs": [],
   "source": []
  },
  {
   "cell_type": "markdown",
   "metadata": {},
   "source": [
    "### To Print ::::  [[2, 3, 4, 5], [3, 4, 5, 6], [4, 5, 6, 7], [5, 6, 7, 8]] "
   ]
  },
  {
   "cell_type": "code",
   "execution_count": 89,
   "metadata": {},
   "outputs": [
    {
     "name": "stdout",
     "output_type": "stream",
     "text": [
      "Output is: [[2, 3, 4, 5], [3, 4, 5, 6], [4, 5, 6, 7], [5, 6, 7, 8]]\n"
     ]
    }
   ],
   "source": [
    "l1 = [[2,3,4,5]]\n",
    "s=0\n",
    "templist = []\n",
    "for i in range(0,3):\n",
    "    templist = []\n",
    "    for j in range(1,5):\n",
    "        s = l1[0][i]+j\n",
    "        templist.append(s) \n",
    "    l1.append(templist)   \n",
    "print('Output is:', l1 )"
   ]
  },
  {
   "cell_type": "markdown",
   "metadata": {},
   "source": [
    "### To Print :::: [(1, 1), (2, 1), (3, 1), (1, 2), (2, 2), (3, 2), (1, 3), (2, 3), (3, 3)] "
   ]
  },
  {
   "cell_type": "code",
   "execution_count": 93,
   "metadata": {},
   "outputs": [
    {
     "name": "stdout",
     "output_type": "stream",
     "text": [
      "Output is:  [(1, 1), (1, 2), (1, 3), (2, 1), (2, 2), (2, 3), (3, 1), (3, 2), (3, 3)]\n"
     ]
    }
   ],
   "source": [
    "l2 = []\n",
    "for i in range(1,4):\n",
    "    for j in range(1,4):\n",
    "        tempTup=(i,j)\n",
    "        l2.append(tempTup)\n",
    "        \n",
    "print ('Output is: ',l2)\n",
    "    "
   ]
  },
  {
   "cell_type": "markdown",
   "metadata": {},
   "source": [
    "# Task 1->3"
   ]
  },
  {
   "cell_type": "markdown",
   "metadata": {},
   "source": [
    "### Implement a function longestWord() that takes a list of words and returns the longest one. "
   ]
  },
  {
   "cell_type": "code",
   "execution_count": 97,
   "metadata": {},
   "outputs": [
    {
     "name": "stdout",
     "output_type": "stream",
     "text": [
      "Longest word is: kabaddiKabaddiKabaddi\n"
     ]
    }
   ],
   "source": [
    "def longestWord(wList):\n",
    "    strLen=1\n",
    "    for word in wList:\n",
    "        if len(word)>strLen:\n",
    "            strLen = len(word)\n",
    "            longestWord = word\n",
    "    return longestWord\n",
    "    \n",
    "\n",
    "wordList = ['go','home','fox','jumps','kabaddiKabaddiKabaddi','lazy','cappuccinno']\n",
    "\n",
    "result = longestWord(wordList)\n",
    "print('Longest word is:', result)\n",
    "\n"
   ]
  }
 ],
 "metadata": {
  "kernelspec": {
   "display_name": "Python 3",
   "language": "python",
   "name": "python3"
  },
  "language_info": {
   "codemirror_mode": {
    "name": "ipython",
    "version": 3
   },
   "file_extension": ".py",
   "mimetype": "text/x-python",
   "name": "python",
   "nbconvert_exporter": "python",
   "pygments_lexer": "ipython3",
   "version": "3.7.0"
  }
 },
 "nbformat": 4,
 "nbformat_minor": 2
}
