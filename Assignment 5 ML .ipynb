{
 "cells": [
  {
   "cell_type": "markdown",
   "metadata": {},
   "source": [
    "# Assignment 5 "
   ]
  },
  {
   "cell_type": "markdown",
   "metadata": {},
   "source": [
    "# 1. Write a function to compute 5/0 and use try/except to catch the exceptions"
   ]
  },
  {
   "cell_type": "code",
   "execution_count": 1,
   "metadata": {},
   "outputs": [],
   "source": [
    "def check():                                                   #defining check function\n",
    "\n",
    "    while True:                                                # created a switch\n",
    "\n",
    "        try:\n",
    "\n",
    "            number = int(input('enter number:'))              #taking an input \n",
    "            denom = int(input('enter denominator'))           #defined a denominator\n",
    "            result = number / denom                           #taking output into result variable\n",
    "            print(result)\n",
    "            break                                             #breaking from the loop if conditions satisfy\n",
    "\n",
    "        except:                                               # using except if incase error found in upper try code\n",
    "\n",
    "            print('There is an error in above code!')         # displaying error message\n",
    "            print('enter valid denominator')                  # asking user to enter valid denominator\n",
    "            continue                                          # keeping loop continue after valid number \n",
    "            \n",
    "        finally:                                            # finally i.e this message always shows whether it has error or not\n",
    "\n",
    "            print('End of this code!')"
   ]
  },
  {
   "cell_type": "code",
   "execution_count": 3,
   "metadata": {},
   "outputs": [
    {
     "name": "stdout",
     "output_type": "stream",
     "text": [
      "enter number:2\n",
      "enter denominator0\n",
      "There is an error in above code!\n",
      "enter valid denominator\n",
      "End of this code!\n",
      "enter number:8\n",
      "enter denominator0\n",
      "There is an error in above code!\n",
      "enter valid denominator\n",
      "End of this code!\n",
      "enter number:5\n",
      "enter denominator0\n",
      "There is an error in above code!\n",
      "enter valid denominator\n",
      "End of this code!\n",
      "enter number:7\n",
      "enter denominator0\n",
      "There is an error in above code!\n",
      "enter valid denominator\n",
      "End of this code!\n",
      "enter number:8\n",
      "enter denominator2\n",
      "4.0\n",
      "End of this code!\n"
     ]
    }
   ],
   "source": [
    "check()"
   ]
  },
  {
   "cell_type": "markdown",
   "metadata": {},
   "source": [
    "# 2. Implement a Python program to generate all sentences where subject is in [\"Americans\", \"Indians\"] and verb is in [\"Play\", \"watch\"] and the object is in [\"Baseball\",\"cricket\"]. \n",
    " \n",
    "## Hint: Subject,Verb and Object should be declared in the program as shown below. \n",
    " \n",
    "### subjects=[\"Americans \",\"Indians\"] \n",
    "### verbs=[\"play\",\"watch\"] \n",
    "### objects=[\"Baseball\",\"Cricket\"\n",
    "\n",
    "\n",
    "\n",
    "## Output should come as below: \n",
    " \n",
    "Americans play Baseball. \n",
    "Americans play Cricket. \n",
    "Americans watch Baseball. \n",
    "Americans watch Cricket. \n",
    "Indians play Baseball. \n",
    "Indians play Cricket. \n",
    "Indians watch Baseball. \n",
    "Indians watch Cricket."
   ]
  },
  {
   "cell_type": "code",
   "execution_count": 10,
   "metadata": {},
   "outputs": [
    {
     "name": "stdout",
     "output_type": "stream",
     "text": [
      "Americans  play Baseball\n",
      "Americans  play Cricket\n",
      "Americans  watch Baseball\n",
      "Americans  watch Cricket\n",
      "Indians play Baseball\n",
      "Indians play Cricket\n",
      "Indians watch Baseball\n",
      "Indians watch Cricket\n"
     ]
    }
   ],
   "source": [
    "s=[\"Americans\",\"Indians\"]\n",
    "v=[\"play\",\"watch\"]\n",
    "o=[\"Baseball\",\"Cricket\"]\n",
    "\n",
    "for i in range(len(s)):\n",
    "    \n",
    "    for j in range(len(v)):\n",
    "        \n",
    "        for k in range(len(o)):\n",
    "            \n",
    "            print(s[i]+\" \" + v[j] +\" \"+ o[k])\n",
    "    "
   ]
  },
  {
   "cell_type": "markdown",
   "metadata": {},
   "source": [
    "# End of Assignment"
   ]
  }
 ],
 "metadata": {
  "kernelspec": {
   "display_name": "Python 3",
   "language": "python",
   "name": "python3"
  },
  "language_info": {
   "codemirror_mode": {
    "name": "ipython",
    "version": 3
   },
   "file_extension": ".py",
   "mimetype": "text/x-python",
   "name": "python",
   "nbconvert_exporter": "python",
   "pygments_lexer": "ipython3",
   "version": "3.7.0"
  }
 },
 "nbformat": 4,
 "nbformat_minor": 2
}
