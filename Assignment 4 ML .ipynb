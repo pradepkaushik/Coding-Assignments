{
 "cells": [
  {
   "cell_type": "markdown",
   "metadata": {},
   "source": [
    "# Assignment 4"
   ]
  },
  {
   "cell_type": "markdown",
   "metadata": {},
   "source": [
    "# Qus 1.1"
   ]
  },
  {
   "cell_type": "markdown",
   "metadata": {},
   "source": [
    "### 1.1 Write a Python Program(with class concepts) to find the area of the triangle using the below,formula,area = (s*(s-a)*(s-b)*(s-c)) ** 0.5\n",
    "Function to take the length of the sides of triangle from user should be defined in the parent\n",
    "class and function to calculate the area should be defined in subclass."
   ]
  },
  {
   "cell_type": "code",
   "execution_count": 90,
   "metadata": {},
   "outputs": [
    {
     "name": "stdout",
     "output_type": "stream",
     "text": [
      "Enter first side:9\n",
      "Enter second side:9\n",
      "Enter third side:9\n",
      "Semi Perimeter of triangle is : 13.5\n",
      "Area of triangle is : 35.074028853269766\n"
     ]
    }
   ],
   "source": [
    "class triangle():                                                   #Creating a class 'triangle' using class keyword\n",
    "    \n",
    "    def __init__(self,a,b,c):                                       # init function to assign values to objects\n",
    "        \n",
    "        self.a = a                                                  \n",
    "        self.b = b\n",
    "        self.c = c \n",
    "\n",
    "    \n",
    "    def findarea(self):                                            # self is used to access variables that belongs to class\n",
    "        \n",
    "        s=(self.a+self.b+self.c)/2                                 # calculating semi perimeter \n",
    "        print('Semi Perimeter of triangle is :',s)                 # printing out the semi perimeter\n",
    "        return(s*((s-self.a)*(s-self.b)*(s-self.c)))** 0.5         # returning the area of trianlge using Heron's formula\n",
    "    \n",
    "a = int(input('Enter first side:'))                                # taking input as side of triangle a,b,c respectively\n",
    "b = int(input('Enter second side:'))\n",
    "c = int(input('Enter third side:'))\n",
    "\n",
    "a1 = triangle(a,b,c)                                               #calling triangle class\n",
    "\n",
    "print('Area of triangle is :',a1.findarea())                       #printing out the area "
   ]
  },
  {
   "cell_type": "markdown",
   "metadata": {},
   "source": [
    "# Qus 1.2"
   ]
  },
  {
   "cell_type": "markdown",
   "metadata": {},
   "source": [
    "### 1.2 Write a function filter_long_words() that takes a list of words and an integer n and returns,the list of words that are longer than n."
   ]
  },
  {
   "cell_type": "code",
   "execution_count": 93,
   "metadata": {},
   "outputs": [],
   "source": [
    "\n",
    "def filter_long_words(num_list):                                  # defining filter_long_words function with parameter\n",
    "    \n",
    "    qus=[]                                                        # qus empty list to store result\n",
    "    \n",
    "    n=2                                                           #pre-defined number for comparison\n",
    "    for i in num_list:\n",
    "        if len(i) > n:                                            # checking len of input vs n\n",
    "            qus.append(i)                                         # storing result in empty list\n",
    "            \n",
    "    print(qus)"
   ]
  },
  {
   "cell_type": "code",
   "execution_count": 94,
   "metadata": {},
   "outputs": [
    {
     "name": "stdout",
     "output_type": "stream",
     "text": [
      "['dsgsdg', 'def', 'xvkxcjvhkhkjdshf']\n"
     ]
    }
   ],
   "source": [
    "filter_long_words(['a','bc','dsgsdg','def','xvkxcjvhkhkjdshf'])"
   ]
  },
  {
   "cell_type": "markdown",
   "metadata": {},
   "source": [
    "# Qus 2.1"
   ]
  },
  {
   "cell_type": "markdown",
   "metadata": {},
   "source": [
    "### 2.1 Write a Python program using function concept that maps list of words into a list of integers,representing the lengths of the corresponding words.\n",
    "Hint: If a list [ ab,cde,erty] is passed on to the python function output should come as [2,3,4]\n",
    "Here 2,3 and 4 are the lengths of the words in the list."
   ]
  },
  {
   "cell_type": "code",
   "execution_count": 6,
   "metadata": {},
   "outputs": [
    {
     "name": "stdout",
     "output_type": "stream",
     "text": [
      "Length of each words in listed : [3, 4, 10]\n"
     ]
    }
   ],
   "source": [
    "listed = ['abc','defg','hijdfdfdkl']                      # taking input in listed named list\n",
    "\n",
    "result = [len(i) for i in listed]                         # list comprehension with length of each element & store in result\n",
    "\n",
    "print('Length of each words in listed :', result)"
   ]
  },
  {
   "cell_type": "markdown",
   "metadata": {},
   "source": [
    "# Qus 2.2"
   ]
  },
  {
   "cell_type": "markdown",
   "metadata": {},
   "source": [
    "### 2.2 Write a Python function which takes a character (i.e. a string of length 1) and returns True if, it is a vowel, False otherwise."
   ]
  },
  {
   "cell_type": "code",
   "execution_count": 1,
   "metadata": {},
   "outputs": [],
   "source": [
    "def vowels(character):                                       # Function  passing along a character\n",
    "    \n",
    "    return character.lower() in ('a','e','i','o','u')        # Making it lower if user mistakenly enter Capital character\n",
    "    \n",
    "    \n",
    "    "
   ]
  },
  {
   "cell_type": "code",
   "execution_count": 5,
   "metadata": {},
   "outputs": [
    {
     "data": {
      "text/plain": [
       "True"
      ]
     },
     "execution_count": 5,
     "metadata": {},
     "output_type": "execute_result"
    }
   ],
   "source": [
    "vowels('i')"
   ]
  },
  {
   "cell_type": "markdown",
   "metadata": {},
   "source": [
    "# End of Assignment 4"
   ]
  }
 ],
 "metadata": {
  "kernelspec": {
   "display_name": "Python 3",
   "language": "python",
   "name": "python3"
  },
  "language_info": {
   "codemirror_mode": {
    "name": "ipython",
    "version": 3
   },
   "file_extension": ".py",
   "mimetype": "text/x-python",
   "name": "python",
   "nbconvert_exporter": "python",
   "pygments_lexer": "ipython3",
   "version": "3.7.0"
  }
 },
 "nbformat": 4,
 "nbformat_minor": 2
}
