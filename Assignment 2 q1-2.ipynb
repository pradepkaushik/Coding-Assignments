{
 "cells": [
  {
   "cell_type": "markdown",
   "metadata": {},
   "source": [
    " # ASSIGNMENT 2"
   ]
  },
  {
   "cell_type": "markdown",
   "metadata": {},
   "source": [
    "### Que 1. Create the below pattern using nested for loop in Python."
   ]
  },
  {
   "cell_type": "code",
   "execution_count": 15,
   "metadata": {},
   "outputs": [
    {
     "name": "stdout",
     "output_type": "stream",
     "text": [
      "enter your rows:4\n",
      "\n",
      "\n",
      "* \n",
      "* * \n",
      "* * * \n",
      "* * * * \n",
      "* * * \n",
      "* * \n",
      "* \n"
     ]
    }
   ],
   "source": [
    "number = int(input('enter your rows:'))             # taking input as for how many rows we want to print star format\n",
    "\n",
    "print('\\n')\n",
    "\n",
    "for i in range(number):                            # for loop to start it with 1 and adding 1 to move it to next row\n",
    "\n",
    "    print(\"* \" * (i+1))                            # multiplying '*' with (i+1) to increase it from 1 to given number\n",
    "    \n",
    "for i in range(number-1):                          # decreasing numbers to come from given number upto end\n",
    "    \n",
    "    print(\"* \"* (number-1-i))                      # decreasing both from number and i for reverse patternn"
   ]
  },
  {
   "cell_type": "markdown",
   "metadata": {},
   "source": [
    "### Qus 6- Write a Python program to reverse a word after accepting the input from the user."
   ]
  },
  {
   "cell_type": "code",
   "execution_count": 17,
   "metadata": {},
   "outputs": [
    {
     "name": "stdout",
     "output_type": "stream",
     "text": [
      "enter your string:abcdefgh\n",
      "hgfedcba\n"
     ]
    }
   ],
   "source": [
    "name = input('enter your string:')                  # taking input from user\n",
    "\n",
    "output = reversed(name)                             # reversed function \n",
    "\n",
    "output = ''.join(output)                            # storing the output with join function\n",
    "\n",
    "print(output) "
   ]
  },
  {
   "cell_type": "markdown",
   "metadata": {},
   "source": [
    "# END OF ASSIGNMENT- 2"
   ]
  },
  {
   "cell_type": "code",
   "execution_count": null,
   "metadata": {},
   "outputs": [],
   "source": []
  }
 ],
 "metadata": {
  "kernelspec": {
   "display_name": "Python 3",
   "language": "python",
   "name": "python3"
  },
  "language_info": {
   "codemirror_mode": {
    "name": "ipython",
    "version": 3
   },
   "file_extension": ".py",
   "mimetype": "text/x-python",
   "name": "python",
   "nbconvert_exporter": "python",
   "pygments_lexer": "ipython3",
   "version": "3.7.0"
  }
 },
 "nbformat": 4,
 "nbformat_minor": 2
}
